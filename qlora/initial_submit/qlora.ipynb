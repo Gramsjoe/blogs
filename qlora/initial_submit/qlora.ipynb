{
 "cells": [
  {
   "cell_type": "code",
   "execution_count": null,
   "id": "initial_id",
   "metadata": {
    "collapsed": true
   },
   "outputs": [],
   "source": [
    "import sagemaker\n",
    "import boto3\n",
    "from transformers import AutoTokenizer\n",
    "from datasets import load_dataset\n",
    "from sagemaker.huggingface import HuggingFace\n",
    "import time"
   ]
  },
  {
   "cell_type": "code",
   "outputs": [],
   "source": [
    "model_id = \"tiiuae/falcon-7b\"\n",
    "dataset_name = \"Amod/mental_health_counseling_conversations\"\n",
    "split_type = \"train\"\n",
    "s3_prefix_dataset = \"dataset\"\n",
    "entry_point = 'train.py'"
   ],
   "metadata": {
    "collapsed": false
   },
   "id": "3ed961eef56f0c7"
  },
  {
   "cell_type": "code",
   "outputs": [],
   "source": [
    "sess = sagemaker.Session()\n",
    "sagemaker_session_bucket=None\n",
    "if sagemaker_session_bucket is None and sess is not None:\n",
    "    sagemaker_session_bucket = sess.default_bucket()\n",
    "\n",
    "try:\n",
    "    role = sagemaker.get_execution_role()\n",
    "except ValueError:\n",
    "    iam = boto3.client('iam')\n",
    "    role = iam.get_role(RoleName='sagemaker_execution_role')['Role']['Arn']\n",
    "\n",
    "sess = sagemaker.Session(default_bucket=sagemaker_session_bucket)\n",
    "\n",
    "print(f\"sagemaker role arn: {role}\")\n",
    "print(f\"sagemaker bucket: {sess.default_bucket()}\")\n",
    "print(f\"sagemaker session region: {sess.boto_region_name}\")"
   ],
   "metadata": {
    "collapsed": false
   },
   "id": "7478fda537360bb"
  },
  {
   "cell_type": "code",
   "outputs": [],
   "source": [
    "def generate_prompt(data_point):\n",
    "    return f\"\"\"\n",
    "        <Human>: {data_point[\"Context\"]}\n",
    "        <AI>: {data_point[\"Response\"]}\n",
    "        \"\"\".strip()"
   ],
   "metadata": {
    "collapsed": false
   },
   "id": "eecf1aa38997942b"
  },
  {
   "cell_type": "code",
   "outputs": [],
   "source": [
    "def generate_and_tokenize_prompt(data_point):\n",
    "    full_prompt = generate_prompt(data_point)\n",
    "    tokenized_full_prompt = tokenizer(full_prompt, padding=True, truncation=True)\n",
    "    return tokenized_full_prompt"
   ],
   "metadata": {
    "collapsed": false
   },
   "id": "c7170b61ba474c8e"
  },
  {
   "cell_type": "code",
   "outputs": [],
   "source": [
    "tokenizer = AutoTokenizer.from_pretrained(model_id)\n",
    "tokenizer.pad_token = tokenizer.eos_token"
   ],
   "metadata": {
    "collapsed": false
   },
   "id": "82b7a9c61e9ff320"
  },
  {
   "cell_type": "code",
   "outputs": [],
   "source": [
    "dataset = load_dataset(dataset_name, split=split_type)\n",
    "dataset = dataset.shuffle().map(generate_and_tokenize_prompt)"
   ],
   "metadata": {
    "collapsed": false
   },
   "id": "86eb3c4c2748b38b"
  },
  {
   "cell_type": "code",
   "outputs": [],
   "source": [
    "dataset.set_format(\"torch\")\n",
    "dataset.format"
   ],
   "metadata": {
    "collapsed": false
   },
   "id": "b82f07f6b657dc7b"
  },
  {
   "cell_type": "code",
   "outputs": [],
   "source": [
    "dataset_path = f's3://{sess.default_bucket()}/{s3_prefix_dataset}'\n",
    "dataset.save_to_disk(dataset_path)"
   ],
   "metadata": {
    "collapsed": false
   },
   "id": "c79a013268336f94"
  },
  {
   "cell_type": "code",
   "outputs": [],
   "source": [
    "hyperparameters={\n",
    "    'model_id': model_id,\n",
    "    'epochs': 1,\n",
    "    'lr': 2e-4,\n",
    "    'fp16': True,\n",
    "    'lora_r': 16,\n",
    "    'lora_alpha': 32,\n",
    "    'lora_dropout': 0.05,\n",
    "    'save_embeddings': True,\n",
    "    'merge_weights': True,\n",
    "    'training_output_dir': \"/tmp1\"\n",
    "}"
   ],
   "metadata": {
    "collapsed": false
   },
   "id": "59eea2b963ac8d1b"
  },
  {
   "cell_type": "code",
   "outputs": [],
   "source": [
    "job_name = f'{entry_point[:-3]}-{time.strftime(\"%Y-%m-%d-%H-%M-%S\", time.localtime())}'\n",
    "print(job_name)"
   ],
   "metadata": {
    "collapsed": false
   },
   "id": "a18bfdb51cd7b01f"
  },
  {
   "cell_type": "code",
   "outputs": [],
   "source": [
    "huggingface_estimator = HuggingFace(\n",
    "    entry_point          = entry_point,\n",
    "    source_dir           = 'scripts',\n",
    "    instance_type        = 'ml.p3dn.24xlarge',\n",
    "    instance_count       = 1,\n",
    "    base_job_name        = job_name,\n",
    "    role                 = role,\n",
    "    disable_output_compression = False,\n",
    "    input_mode           = 'FastFile',\n",
    "    transformers_version = '4.28',\n",
    "    pytorch_version      = '2.0',\n",
    "    py_version           = 'py310',\n",
    "    hyperparameters = hyperparameters\n",
    ")"
   ],
   "metadata": {
    "collapsed": false
   },
   "id": "33185c54359c15a7"
  },
  {
   "cell_type": "code",
   "outputs": [],
   "source": [
    "print(dataset_path)"
   ],
   "metadata": {
    "collapsed": false
   },
   "id": "10d0ec5ef5620068"
  },
  {
   "cell_type": "code",
   "outputs": [],
   "source": [
    "huggingface_estimator.fit({\n",
    "    's3_data': dataset_path\n",
    "})"
   ],
   "metadata": {
    "collapsed": false
   },
   "id": "ee389e865d12b19f"
  }
 ],
 "metadata": {
  "kernelspec": {
   "display_name": "Python 3",
   "language": "python",
   "name": "python3"
  },
  "language_info": {
   "codemirror_mode": {
    "name": "ipython",
    "version": 2
   },
   "file_extension": ".py",
   "mimetype": "text/x-python",
   "name": "python",
   "nbconvert_exporter": "python",
   "pygments_lexer": "ipython2",
   "version": "2.7.6"
  }
 },
 "nbformat": 4,
 "nbformat_minor": 5
}
