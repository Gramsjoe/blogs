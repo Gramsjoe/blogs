{
 "cells": [
  {
   "cell_type": "code",
   "execution_count": null,
   "id": "7da39d16",
   "metadata": {},
   "outputs": [],
   "source": [
    "%pip install transformers datasets"
   ]
  },
  {
   "cell_type": "code",
   "execution_count": 1,
   "id": "622ef754",
   "metadata": {},
   "outputs": [
    {
     "name": "stdout",
     "output_type": "stream",
     "text": [
      "sagemaker.config INFO - Not applying SDK defaults from location: /etc/xdg/sagemaker/config.yaml\n",
      "sagemaker.config INFO - Not applying SDK defaults from location: /home/ec2-user/.config/sagemaker/config.yaml\n"
     ]
    }
   ],
   "source": [
    "import sagemaker\n",
    "import boto3\n",
    "import time\n",
    "from sagemaker.huggingface import HuggingFace\n",
    "from transformers import AutoTokenizer\n",
    "from datasets import load_dataset"
   ]
  },
  {
   "cell_type": "code",
   "execution_count": null,
   "id": "458c2138",
   "metadata": {},
   "outputs": [],
   "source": [
    "sess = sagemaker.Session()\n",
    "sagemaker_session_bucket=None\n",
    "if sagemaker_session_bucket is None and sess is not None:\n",
    "    sagemaker_session_bucket = sess.default_bucket()\n",
    "\n",
    "try:\n",
    "    role = sagemaker.get_execution_role()\n",
    "except ValueError:\n",
    "    iam = boto3.client('iam')\n",
    "    role = iam.get_role(RoleName='sagemaker_execution_role')['Role']['Arn']\n",
    "\n",
    "sess = sagemaker.Session(default_bucket=sagemaker_session_bucket)\n",
    "\n",
    "print(f\"sagemaker role arn: {role}\")\n",
    "print(f\"sagemaker bucket: {sess.default_bucket()}\")\n",
    "print(f\"sagemaker session region: {sess.boto_region_name}\")"
   ]
  },
  {
   "cell_type": "code",
   "execution_count": null,
   "id": "fd971aed",
   "metadata": {},
   "outputs": [],
   "source": [
    "def format_prompt(data_point):\n",
    "    return f\"\"\"\n",
    "        <Human>: {data_point[\"Context\"]}\n",
    "        <AI>: {data_point[\"Response\"]}\n",
    "        \"\"\".strip()"
   ]
  },
  {
   "cell_type": "code",
   "execution_count": null,
   "id": "bc5428f5",
   "metadata": {},
   "outputs": [],
   "source": [
    "def tokenize_prompt(data_point):\n",
    "    full_prompt = format_prompt(data_point)\n",
    "    tokenized_full_prompt = tokenizer(full_prompt, padding=True, truncation=True)\n",
    "    return tokenized_full_prompt"
   ]
  },
  {
   "cell_type": "code",
   "execution_count": null,
   "id": "cd254b7b",
   "metadata": {},
   "outputs": [],
   "source": [
    "model_id = \"tiiuae/falcon-7b\"\n",
    "dataset_name = \"Amod/mental_health_counseling_conversations\"\n",
    "split_type = \"train\"\n",
    "s3_prefix_dataset = \"dataset\""
   ]
  },
  {
   "cell_type": "code",
   "execution_count": null,
   "id": "f47fa51a",
   "metadata": {},
   "outputs": [],
   "source": [
    "tokenizer = AutoTokenizer.from_pretrained(model_id)\n",
    "tokenizer.pad_token = tokenizer.eos_token"
   ]
  },
  {
   "cell_type": "code",
   "execution_count": null,
   "id": "9cc0bee7",
   "metadata": {},
   "outputs": [],
   "source": [
    "dataset = load_dataset(dataset_name, split=split_type)\n",
    "dataset = dataset.shuffle().map(tokenize_prompt)"
   ]
  },
  {
   "cell_type": "code",
   "execution_count": null,
   "id": "780a39ee",
   "metadata": {},
   "outputs": [],
   "source": [
    "dataset.set_format(\"torch\")\n",
    "dataset.format"
   ]
  },
  {
   "cell_type": "code",
   "execution_count": null,
   "id": "647c457f",
   "metadata": {},
   "outputs": [],
   "source": [
    "dataset_path = f's3://{sess.default_bucket()}/{s3_prefix_dataset}'\n",
    "dataset.save_to_disk(dataset_path)"
   ]
  },
  {
   "cell_type": "code",
   "execution_count": null,
   "id": "4af4bdaf",
   "metadata": {},
   "outputs": [],
   "source": [
    "hyperparameters={\n",
    "    'model_id': model_id,\n",
    "    'epochs': 1,\n",
    "    'lr': 2e-4,\n",
    "    'bf16': True,\n",
    "    'lora_r': 16,\n",
    "    'lora_alpha': 32,\n",
    "    'lora_dropout': 0.05,\n",
    "    'save_embeddings': True,\n",
    "    'merge_weights': True,\n",
    "    'training_output_dir': \"/tmp\"\n",
    "}"
   ]
  },
  {
   "cell_type": "code",
   "execution_count": null,
   "id": "f5a7c5e0",
   "metadata": {},
   "outputs": [],
   "source": [
    "entry_point = 'train.py'\n",
    "job_name = f'{entry_point[:-3]}-{time.strftime(\"%Y-%m-%d-%H-%M-%S\", time.localtime())}'\n",
    "print(job_name)"
   ]
  },
  {
   "cell_type": "code",
   "execution_count": null,
   "id": "0267c1e8",
   "metadata": {},
   "outputs": [],
   "source": [
    "huggingface_estimator = HuggingFace(\n",
    "    entry_point          = entry_point,\n",
    "    source_dir           = 'scripts',\n",
    "    instance_type        = 'ml.g5.48xlarge',\n",
    "    instance_count       = 1,\n",
    "    base_job_name        = job_name,\n",
    "    role                 = role,\n",
    "    disable_output_compression = False,\n",
    "    input_mode           = 'FastFile',\n",
    "    transformers_version = '4.28',\n",
    "    pytorch_version      = '2.0',\n",
    "    py_version           = 'py310',\n",
    "    hyperparameters = hyperparameters\n",
    ")"
   ]
  },
  {
   "cell_type": "code",
   "execution_count": null,
   "id": "f9cda335",
   "metadata": {},
   "outputs": [],
   "source": [
    "print(dataset_path)"
   ]
  },
  {
   "cell_type": "code",
   "execution_count": null,
   "id": "9ee4a5fa",
   "metadata": {},
   "outputs": [],
   "source": [
    "huggingface_estimator.fit({\n",
    "    's3_data': dataset_path\n",
    "})"
   ]
  },
  {
   "cell_type": "code",
   "execution_count": null,
   "id": "01ad0cc0",
   "metadata": {},
   "outputs": [],
   "source": []
  }
 ],
 "metadata": {
  "kernelspec": {
   "display_name": "conda_pytorch_p310",
   "language": "python",
   "name": "conda_pytorch_p310"
  },
  "language_info": {
   "codemirror_mode": {
    "name": "ipython",
    "version": 3
   },
   "file_extension": ".py",
   "mimetype": "text/x-python",
   "name": "python",
   "nbconvert_exporter": "python",
   "pygments_lexer": "ipython3",
   "version": "3.10.13"
  }
 },
 "nbformat": 4,
 "nbformat_minor": 5
}
