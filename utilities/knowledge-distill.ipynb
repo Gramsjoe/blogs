{
 "cells": [
  {
   "cell_type": "code",
   "outputs": [],
   "source": [
    "%conda install transformers accelerate"
   ],
   "metadata": {
    "collapsed": false
   },
   "id": "104ab114a51f4f6b"
  },
  {
   "cell_type": "code",
   "outputs": [],
   "source": [
    "print(torch.__version__)"
   ],
   "metadata": {
    "collapsed": false
   },
   "id": "d7f34dd23c3020c0"
  },
  {
   "cell_type": "code",
   "execution_count": 1,
   "id": "d58ba24f",
   "metadata": {},
   "outputs": [],
   "source": [
    "import os\n",
    "import sagemaker\n",
    "import boto3\n",
    "import tarfile"
   ]
  },
  {
   "cell_type": "code",
   "outputs": [],
   "source": [
    "sess = sagemaker.Session()\n",
    "sagemaker_session_bucket=None\n",
    "if sagemaker_session_bucket is None and sess is not None:\n",
    "    sagemaker_session_bucket = sess.default_bucket()\n",
    "\n",
    "try:\n",
    "    role = sagemaker.get_execution_role()\n",
    "except ValueError:\n",
    "    iam = boto3.client('iam')\n",
    "    role = iam.get_role(RoleName='sagemaker_execution_role')['Role']['Arn']\n",
    "\n",
    "sess = sagemaker.Session(default_bucket=sagemaker_session_bucket)\n",
    "\n",
    "print(f\"sagemaker role arn: {role}\")\n",
    "print(f\"sagemaker bucket: {sess.default_bucket()}\")\n",
    "print(f\"sagemaker session region: {sess.boto_region_name}\")"
   ],
   "metadata": {
    "collapsed": false
   },
   "id": "d928b3c6ef78e82c"
  },
  {
   "cell_type": "code",
   "execution_count": 6,
   "id": "0a0c9413",
   "metadata": {},
   "outputs": [],
   "source": [
    "# Create model directory to save to\n",
    "model_dir = \"./models/\"\n",
    "if not os.path.exists(model_dir):\n",
    "    os.makedirs(model_dir)"
   ]
  },
  {
   "cell_type": "code",
   "outputs": [],
   "source": [
    "student_id = \"gpt2\"\n",
    "teacher_id = \"gpt2-medium\"\n",
    "dataset_id = \"glue\"\n",
    "dataset_config = \"sst2\""
   ],
   "metadata": {
    "collapsed": false
   },
   "id": "89d7c3c5",
   "execution_count": 7
  },
  {
   "cell_type": "code",
   "execution_count": null,
   "id": "d8407249",
   "metadata": {},
   "outputs": [],
   "source": [
    "trainer.train()\n",
    "trainer.save_model(model_dir)"
   ]
  },
  {
   "cell_type": "code",
   "execution_count": 28,
   "id": "4d9faa5e",
   "metadata": {},
   "outputs": [],
   "source": [
    "s3 = boto3.client('s3')"
   ]
  },
  {
   "cell_type": "code",
   "outputs": [],
   "source": [
    "s3_model_path = 'results'\n",
    "tar_gz_file = \"model.tar.gz\""
   ],
   "metadata": {
    "collapsed": false
   },
   "id": "d3cd3e738cdc9a73"
  },
  {
   "cell_type": "code",
   "outputs": [],
   "source": [
    "with tarfile.open(tar_gz_file, \"w:gz\") as tar:\n",
    "    tar.add(model_dir, arcname=os.path.basename(model_dir))\n",
    "\n",
    "print(f\"Compressed and archived {model_dir} to {tar_gz_file}\")"
   ],
   "metadata": {
    "collapsed": false
   },
   "id": "1dea32e7e66313e9"
  },
  {
   "cell_type": "code",
   "outputs": [],
   "source": [
    "model_file = os.path.join(\".\", tar_gz_file)\n",
    "s3_file = f\"{sess.default_bucket()}/{s3_model_path}/{tar_gz_file}\"\n",
    "\n",
    "try:\n",
    "    print(f'Uploading {model_file} to {s3_file}...')\n",
    "    s3.upload_file(model_file, sess.default_bucket(), f\"{s3_model_path}/{tar_gz_file}\")\n",
    "    print(f'Uploaded {model_file} to {s3_file}')\n",
    "except Exception as e:\n",
    "    print(f\"Error occurred while uploading file {model_file}, {e}\")"
   ],
   "metadata": {
    "collapsed": false
   },
   "id": "b4946e53b691d52a"
  }
 ],
 "metadata": {
  "kernelspec": {
   "display_name": "conda_pytorch_p310",
   "language": "python",
   "name": "conda_pytorch_p310"
  },
  "language_info": {
   "codemirror_mode": {
    "name": "ipython",
    "version": 3
   },
   "file_extension": ".py",
   "mimetype": "text/x-python",
   "name": "python",
   "nbconvert_exporter": "python",
   "pygments_lexer": "ipython3",
   "version": "3.10.13"
  }
 },
 "nbformat": 4,
 "nbformat_minor": 5
}
